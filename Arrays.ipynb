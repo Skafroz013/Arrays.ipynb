{
 "cells": [
  {
   "cell_type": "code",
   "execution_count": 2,
   "id": "c3f0a001-d806-43a0-9c44-90634d71bdfb",
   "metadata": {},
   "outputs": [
    {
     "name": "stdout",
     "output_type": "stream",
     "text": [
      "True\n"
     ]
    }
   ],
   "source": [
    "#1. Given an array, check if it contains any duplicates or not.\n",
    "#arr = [1,2,4,2,5,9]\n",
    "#Output = Ture\n",
    "arr = [1, 2, 4, 2, 5, 9]\n",
    "def has_duplicates(arr):\n",
    "    seen = set()\n",
    "    for element in arr:\n",
    "        if element in seen:\n",
    "            return True\n",
    "        seen.add(element)\n",
    "    return False\n",
    "\n",
    "arr = [1,2,4,2,5,9]\n",
    "result = has_duplicates(arr)\n",
    "print(result)"
   ]
  },
  {
   "cell_type": "code",
   "execution_count": 4,
   "id": "f2984e1b-cab4-4916-9ce2-858466a9ea6d",
   "metadata": {},
   "outputs": [
    {
     "name": "stdout",
     "output_type": "stream",
     "text": [
      "[5, 6, 7, 1, 2, 3, 4]\n"
     ]
    }
   ],
   "source": [
    "#2. Given an array and an integer k, rotate the array to the right by k steps. \n",
    "#arr = [1, 2, 3, 4, 5, 6, 7] k = 3 \n",
    "#Output = [5, 6, 7, 1, 2, 3, 4]\n",
    "def rotate_array(arr, k):\n",
    "    n = len(arr)\n",
    "    k = k % n\n",
    "    arr.reverse()\n",
    "    arr[:k] = reversed(arr[:k])\n",
    "    \n",
    "    arr[k:] = reversed(arr[k:])\n",
    "\n",
    "arr = [1,2,3,4,5,6,7]\n",
    "k = 3\n",
    "rotate_array(arr, k)\n",
    "print(arr)"
   ]
  },
  {
   "cell_type": "code",
   "execution_count": 11,
   "id": "ac6413b0-a9b9-429b-a816-a9b5d932b27b",
   "metadata": {},
   "outputs": [
    {
     "name": "stdout",
     "output_type": "stream",
     "text": [
      "[12, 9, 7, 5, 4, 2]\n"
     ]
    }
   ],
   "source": [
    "#3. Reverse the given array in-place, means without using any extra data structure. \n",
    "#arr = [2, 4, 5, 7, 9, 12] \n",
    "#Output = [12, 9, 7, 5, 4, 2]\n",
    "def reverse_array_in_place(arr):\n",
    "    start = 0\n",
    "    end = len(arr) - 1\n",
    "\n",
    "    while start < end:\n",
    "     \n",
    "        arr[start], arr[end] = arr[end], arr[start]\n",
    "\n",
    "        \n",
    "        start += 1\n",
    "        end -= 1\n",
    "\n",
    "arr = [2, 4, 5, 7, 9, 12]\n",
    "reverse_array_in_place(arr)\n",
    "print(arr)\n"
   ]
  },
  {
   "cell_type": "code",
   "execution_count": 18,
   "id": "82aee20f-8a96-4037-98e6-cd9faba7e3bc",
   "metadata": {},
   "outputs": [
    {
     "name": "stdout",
     "output_type": "stream",
     "text": [
      "20\n"
     ]
    }
   ],
   "source": [
    "#4 Given an array of integers, find the maximum element in an array\n",
    "#arr = [10, 5, 20, 8, 15]\n",
    "\n",
    "def find_max_element(arr):\n",
    "    if not arr:\n",
    "        return None  \n",
    "    max_element = arr[0] \n",
    "\n",
    "    for element in arr:\n",
    "        if element > max_element:\n",
    "            max_element = element \n",
    "\n",
    "    return max_element\n",
    "\n",
    "arr = [10, 5, 20, 8, 15]\n",
    "max_element = find_max_element(arr)\n",
    "print(max_element)\n"
   ]
  },
  {
   "cell_type": "code",
   "execution_count": 23,
   "id": "2ed44cca-ef4c-4840-8dee-6a2bf8ee207a",
   "metadata": {},
   "outputs": [
    {
     "ename": "NameError",
     "evalue": "name 'remove_dupliactes_in_place' is not defined",
     "output_type": "error",
     "traceback": [
      "\u001b[0;31m---------------------------------------------------------------------------\u001b[0m",
      "\u001b[0;31mNameError\u001b[0m                                 Traceback (most recent call last)",
      "Cell \u001b[0;32mIn[23], line 19\u001b[0m\n\u001b[1;32m     16\u001b[0m         \u001b[38;5;28;01mdel\u001b[39;00m arr[write_index:]\n\u001b[1;32m     18\u001b[0m arr \u001b[38;5;241m=\u001b[39m [\u001b[38;5;241m1\u001b[39m,\u001b[38;5;241m2\u001b[39m,\u001b[38;5;241m3\u001b[39m,\u001b[38;5;241m4\u001b[39m,\u001b[38;5;241m5\u001b[39m,\u001b[38;5;241m1\u001b[39m,\u001b[38;5;241m2\u001b[39m,\u001b[38;5;241m3\u001b[39m,\u001b[38;5;241m4\u001b[39m,\u001b[38;5;241m5\u001b[39m,\u001b[38;5;241m5\u001b[39m]\n\u001b[0;32m---> 19\u001b[0m \u001b[43mremove_dupliactes_in_place\u001b[49m(arr)\n\u001b[1;32m     20\u001b[0m \u001b[38;5;28mprint\u001b[39m(arr)\n",
      "\u001b[0;31mNameError\u001b[0m: name 'remove_dupliactes_in_place' is not defined"
     ]
    }
   ],
   "source": [
    "#5. Given a sorted array, remove the duplicate element without using any extra data structure. \n",
    "#arr = [1, 1, 2, 2, 2, 3, 3, 4, 4, 4, 5, 5] \n",
    "#Output = [1, 2, 3, 4, 5]\n",
    "\n",
    "def remove_duplicates_in_place(arr):\n",
    "    if not arr:\n",
    "        return\n",
    "    \n",
    "    write_index = 1\n",
    "    \n",
    "    for i in range(1, len(arr)):\n",
    "        if arr[i] != arr[i-1]:\n",
    "            arr[write_index] = arr[i]\n",
    "            write_index += 1\n",
    "            \n",
    "        del arr[write_index:]\n",
    "\n",
    "arr = [1,2,3,4,5,1,2,3,4,5,5]\n",
    "remove_dupliactes_in_place(arr)\n",
    "print(arr)"
   ]
  },
  {
   "cell_type": "code",
   "execution_count": null,
   "id": "ebf02ac1-5765-41b2-a891-6a306d2e865b",
   "metadata": {},
   "outputs": [],
   "source": []
  }
 ],
 "metadata": {
  "kernelspec": {
   "display_name": "Python 3 (ipykernel)",
   "language": "python",
   "name": "python3"
  },
  "language_info": {
   "codemirror_mode": {
    "name": "ipython",
    "version": 3
   },
   "file_extension": ".py",
   "mimetype": "text/x-python",
   "name": "python",
   "nbconvert_exporter": "python",
   "pygments_lexer": "ipython3",
   "version": "3.10.8"
  }
 },
 "nbformat": 4,
 "nbformat_minor": 5
}
